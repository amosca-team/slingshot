{
 "cells": [
  {
   "cell_type": "code",
   "execution_count": 1,
   "metadata": {},
   "outputs": [],
   "source": [
    "from slingshot.petition.layers.models import ContratoServicos, InversaoOnusProva\n",
    "from slingshot.petition.layers.models import CobrancaIndevida, ImpossivelCancelar, DanoMoral, RegistroSerasa\n",
    "from slingshot.petition.layers.parts import *\n",
    "from slingshot.petition.core import Petition"
   ]
  },
  {
   "cell_type": "code",
   "execution_count": 2,
   "metadata": {},
   "outputs": [],
   "source": [
    "pet = Petition()"
   ]
  },
  {
   "cell_type": "code",
   "execution_count": 3,
   "metadata": {},
   "outputs": [],
   "source": [
    "pet.add(Author(name=\"Pi\",\n",
    "               profession=\"animal que fez esta porra\",\n",
    "               address=\"Rua do Pi\",\n",
    "               cpf=\"438.096.209-98\"))\n",
    "\n",
    "pet.add(ContratoServicos(service=\"adesao a plano de celular\",\n",
    "                        docs = [\"contas\", \"reclamacoes\"]))\n",
    "\n",
    "pet.add(Claro_SP_re)\n",
    "\n",
    "pet.add(InversaoOnusProva())\n",
    "\n",
    "pet.add(CobrancaIndevida(tarifas_cobradas=[\"Dados a mais\", \"manutencao do chip\"],\n",
    "                         valor=2000,\n",
    "                         docs=[\"contas\"]))\n",
    "\n",
    "pet.add(RegistroSerasa(divida_registrada=\"Conta do celular X\",\n",
    "                       valor=2000,\n",
    "                        docs=[\"documentos anexos\"]))\n",
    "\n",
    "pet.add(ImpossivelCancelar(dano_moral=3000,\n",
    "                           docs=[\"pedido de cancelamento\", \"email\", \"protocolo\"]))\n",
    "\n",
    "pet.add(DanoMoral(2000))"
   ]
  },
  {
   "cell_type": "code",
   "execution_count": 4,
   "metadata": {},
   "outputs": [],
   "source": [
    "pet.compile()"
   ]
  },
  {
   "cell_type": "code",
   "execution_count": 5,
   "metadata": {},
   "outputs": [
    {
     "name": "stdout",
     "output_type": "stream",
     "text": [
      "Acao condenatoria com base no CDC\n",
      "#############\n",
      "CAMADAS DA PETICAO:\n",
      "Autor\n",
      "Parte Re\n",
      "Contexto - Prestacao de servicos\n",
      "Preliminar - Inversao onus da prova\n",
      "Cobranca indevida\n",
      "Registro indevido no Serasa\n",
      "Impossivel cancelar plano\n",
      "Dano moral puro\n",
      "#############\n",
      "Valor da causa: R$ 11000\n"
     ]
    }
   ],
   "source": [
    "pet.summary()"
   ]
  },
  {
   "cell_type": "code",
   "execution_count": 7,
   "metadata": {},
   "outputs": [
    {
     "name": "stdout",
     "output_type": "stream",
     "text": [
      "libpng warning: iCCP: known incorrect sRGB profile\n",
      "libpng warning: iCCP: known incorrect sRGB profile\n",
      "Loading page (1/2)\n",
      "[>                                                           ] 0%\r",
      "[======================>                                     ] 38%\r",
      "QIODevice::write (QTcpSocket): device not open\n",
      "[==============================>                             ] 50%\r",
      "[==============================>                             ] 50%\r",
      "[====================================>                       ] 60%\r",
      "[=================================================>          ] 82%\r",
      "[============================================================] 100%\r",
      "Printing pages (2/2)                                               \n",
      "[>                                                           ] \r",
      "Done                                                           \n"
     ]
    }
   ],
   "source": [
    "a = pet.save_document('yee')"
   ]
  },
  {
   "cell_type": "code",
   "execution_count": null,
   "metadata": {},
   "outputs": [],
   "source": []
  },
  {
   "cell_type": "code",
   "execution_count": null,
   "metadata": {},
   "outputs": [],
   "source": []
  }
 ],
 "metadata": {
  "kernelspec": {
   "display_name": "Python 3",
   "language": "python",
   "name": "python3"
  },
  "language_info": {
   "codemirror_mode": {
    "name": "ipython",
    "version": 3
   },
   "file_extension": ".py",
   "mimetype": "text/x-python",
   "name": "python",
   "nbconvert_exporter": "python",
   "pygments_lexer": "ipython3",
   "version": "3.7.3"
  }
 },
 "nbformat": 4,
 "nbformat_minor": 2
}
