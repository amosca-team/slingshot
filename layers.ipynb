{
 "cells": [
  {
   "cell_type": "code",
   "execution_count": 1,
   "metadata": {},
   "outputs": [],
   "source": [
    "from slingshot.petition.layers.models import Author, CounterPart, ContratoServicos, InversaoOnusProva\n",
    "from slingshot.petition.layers.models import CobrancaIndevida, ImpossivelCancelar, DanoMoral\n",
    "from slingshot.petition.core import Petition"
   ]
  },
  {
   "cell_type": "code",
   "execution_count": 2,
   "metadata": {},
   "outputs": [],
   "source": [
    "pet = Petition()"
   ]
  },
  {
   "cell_type": "code",
   "execution_count": 3,
   "metadata": {},
   "outputs": [],
   "source": [
    "pet.add(Author(name=\"Pi\",\n",
    "               profession=\"animal que fez esta porra\",\n",
    "               address=\"Rua do Pi\",\n",
    "               cpf=\"438.096.209-98\"))\n",
    "\n",
    "pet.add(ContratoServicos(service=\"adesao a plano de celular\",\n",
    "                        docs = [\"contas\", \"reclamacoes\"]))\n",
    "\n",
    "pet.add(CounterPart(name=\"TIM Brasil ltda.\",\n",
    "                    address=\"Sede da tim\",\n",
    "                    cnpj=\"1344.1234.1234-09231/12\"))\n",
    "\n",
    "#pet.add(InversaoOnusProva())\n",
    "\n",
    "pet.add(CobrancaIndevida(tarifas_cobradas=[\"Dados a mais\", \"manutencao do chip\"],\n",
    "                         valor=2000,\n",
    "                         docs=[\"contas\"]))\n",
    "\n",
    "#pet.add(ImpossivelCancelar(dano_moral=3000,\n",
    " #                          docs=[\"pedido de cancelamento\", \"email\", \"protocolo\"]))\n",
    "\n",
    "pet.add(DanoMoral(2000))"
   ]
  },
  {
   "cell_type": "code",
   "execution_count": 4,
   "metadata": {},
   "outputs": [],
   "source": [
    "pet.compile()"
   ]
  },
  {
   "cell_type": "code",
   "execution_count": 5,
   "metadata": {},
   "outputs": [
    {
     "name": "stdout",
     "output_type": "stream",
     "text": [
      "Acao condenatoria com base no CDC\n",
      "#############\n",
      "CAMADAS DA PETICAO:\n",
      "Autor\n",
      "Parte Re\n",
      "Contexto - Prestacao de servicos\n",
      "Cobranca indevida\n",
      "Dano moral puro\n",
      "#############\n",
      "Valor da causa: R$ 6000\n"
     ]
    }
   ],
   "source": [
    "pet.summary()"
   ]
  },
  {
   "cell_type": "code",
   "execution_count": 6,
   "metadata": {},
   "outputs": [
    {
     "name": "stdout",
     "output_type": "stream",
     "text": [
      "### **EXMO SR JUIZ DE DIREITO DO JEC DO TJSP**\n",
      "\n",
      "\n",
      "\n",
      "Pi, animal que fez esta porra, domiciliado em Rua do Pi, sob o CPF 438.096.209-98 vem diante da Vossa Exa. ajuizar\n",
      "Acao condenatoria com base no CDC\n",
      "Em face de TIM Brasil ltda., com sede em Sede da tim, sob o CNPJ 1344.1234.1234-09231/12, pelas razoes de fato e Direito aqui expostas:\n",
      "\n",
      "\n",
      "#### **DOS FATOS**\n",
      "**1.** Conforme da documentacao anexa ('contas', 'reclamacoes') parte autora firmou com a parte requerida contrato de prestacao de servicos, mais especificamente por meio de adesao a plano de celular. Ocorre que, durante a execucao do contrato, a re teve uma serie de condutas que passaram a prejudicar a autora.\n",
      "\n",
      "**2.** Ainda conforme a documentacao, a parte autora tentou de todos os meios amigaveis possiveispara a solucao dos problemas que seguem, tornando esta acao a unica solucao possivel.\n",
      "\n",
      "**3.** Conforme a documentacao anexa 'contas', a parte re cobrou indevidamente da autora valores que perfazezm o montate de R$ 2000, sob a invalida justificativa  de corresponderem a 'Dados a mais', 'manutencao do chip'\n",
      "\n",
      "**4.** A parte autora ressalta que jamais anuiu com a cobranca desses valores, seja como prestacao de servicos adicionais, reajuste no plano ou qualquer outro tipo de cobranca, de maneira que resta ilicita e incorreta a referida cobranca de valores.\n",
      "\n",
      "\n",
      "#### **DOS DIREITO**\n",
      "**5.** De acordo com o Art XXX do CDC, quando houver cobranca indevida, o consumidor tem direito a repeticao do indebito em dobro, que foi validado em jurisprudencia XXXX\n",
      "\n",
      "**6.** Ainda de acordo com a respectiva lei XXXXX art XXXXX, a cobranca indevida nesses termos da ensejo aindenizacao por dano moral. O entendimento jurisprudencial e consoante.\n",
      "\n",
      "\n",
      "#### **DOS PEDIDOS**\n",
      "**1.** A repeticao do indebito em dobro, de acordo com o exposto e no valor de R$ 4000\n",
      "\n",
      "**2.** A condenacao da parte re ao pagamento de um total de R$ 2000 a titulo de danos morais, em virtude do exposto\n",
      "\n",
      "**3.** Da-se a causa o valor de R$ 6000\n",
      "\n",
      "\n",
      "Termos em que pede deferimento\n",
      "Pi\n"
     ]
    }
   ],
   "source": [
    "pet.print_text()"
   ]
  },
  {
   "cell_type": "markdown",
   "metadata": {},
   "source": [
    "### Interpretando markdown"
   ]
  },
  {
   "cell_type": "markdown",
   "metadata": {},
   "source": [
    "### **EXMO SR JUIZ DE DIREITO DO JEC DO TJSP**\n",
    "\n",
    "\n",
    "\n",
    "Pi, animal que fez esta porra, domiciliado em Rua do Pi, sob o CPF 438.096.209-98 vem diante da Vossa Exa. ajuizar\n",
    "Acao condenatoria com base no CDC\n",
    "Em face de TIM Brasil ltda., com sede em Sede da tim, sob o CNPJ 1344.1234.1234-09231/12, pelas razoes de fato e Direito aqui expostas:\n",
    "\n",
    "\n",
    "#### **DOS FATOS**\n",
    "**1.** Conforme da documentacao anexa ('contas', 'reclamacoes') parte autora firmou com a parte requerida contrato de prestacao de servicos, mais especificamente por meio de adesao a plano de celular. Ocorre que, durante a execucao do contrato, a re teve uma serie de condutas que passaram a prejudicar a autora.\n",
    "\n",
    "**2.** Ainda conforme a documentacao, a parte autora tentou de todos os meios amigaveis possiveispara a solucao dos problemas que seguem, tornando esta acao a unica solucao possivel.\n",
    "\n",
    "**3.** Conforme a documentacao anexa 'contas', a parte re cobrou indevidamente da autora valores que perfazezm o montate de R$ 2000, sob a invalida justificativa  de corresponderem a 'Dados a mais', 'manutencao do chip'\n",
    "\n",
    "**4.** A parte autora ressalta que jamais anuiu com a cobranca desses valores, seja como prestacao de servicos adicionais, reajuste no plano ou qualquer outro tipo de cobranca, de maneira que resta ilicita e incorreta a referida cobranca de valores.\n",
    "\n",
    "\n",
    "#### **DOS DIREITO**\n",
    "**5.** De acordo com o Art XXX do CDC, quando houver cobranca indevida, o consumidor tem direito a repeticao do indebito em dobro, que foi validado em jurisprudencia XXXX\n",
    "\n",
    "**6.** Ainda de acordo com a respectiva lei XXXXX art XXXXX, a cobranca indevida nesses termos da ensejo aindenizacao por dano moral. O entendimento jurisprudencial e consoante.\n",
    "\n",
    "\n",
    "#### **DOS PEDIDOS**\n",
    "**1.** A repeticao do indebito em dobro, de acordo com o exposto e no valor de R$ 4000\n",
    "\n",
    "**2.** A condenacao da parte re ao pagamento de um total de R$ 2000 a titulo de danos morais, em virtude do exposto\n",
    "\n",
    "**3.** Da-se a causa o valor de R$ 6000\n",
    "\n",
    "\n",
    "Termos em que pede deferimento\n",
    "Pi\n"
   ]
  },
  {
   "cell_type": "code",
   "execution_count": 16,
   "metadata": {},
   "outputs": [
    {
     "name": "stdout",
     "output_type": "stream",
     "text": [
      "Vamos processar a TIM? \n",
      "Quem e vc? Tris\n",
      "Qual sua profissao? Estudante\n",
      "Qual seu endereco? Rua Benis 35\n",
      "Qual seu cpf? 123.123.123-12\n",
      "Teve cobranca indeivida? sim\n",
      "Quais tarifas te cobraram a mais? Chip, dados a mais\n",
      "E quanto eles te cobraram? 3000\n",
      "Agora diga quais documentos voce tem que provam isso ai...contas\n",
      "Ta dificil cancelar o plano tambem?nao\n",
      "Partiu processar a TIM!!!\n",
      "EXMO SR JUIZ DE DIREITO DO JEC DO TJSP\n",
      "\n",
      "\n",
      "\n",
      "Tris, Estudante, domiciliado em Rua Benis 35, sob o CPF 123.123.123-12 vem diante da Vossa Exa. ajuizar\n",
      "Acao condenatoria com base no CDC\n",
      "PRELIMINARES\n",
      "1. Em virtude da nitida situacao de hipossuficiente da parte autora, do art XXXX do CDC e art XXX do CPC e CC e dos julgados XXXX, faz-se necessariainversao do onus da prova em favor da parte autora neste processo.\n",
      "\n",
      "DOS FATOS\n",
      "2. Conforme da documentacao anexa ('contas', 'reclamacoes') parte autora firmou com a parte requerida contrato de prestacao de servicos, mais especificamente por meio de adesao a plano de celular. Ocorre que, durante a execucao do contrato, a re teve uma serie de condutas que passaram a prejudicar a autora.\n",
      "3. Ainda conforme a documentacao, a parte autora tentou de todos os meios amigaveis possiveispara a solucao dos problemas que seguem, tornando esta acao a unica solucao possivel.\n",
      "4. Conforme a documentacao anexa 'contas', a parte re cobrou indevidamente da autora valores que perfazezm o montate de R$ 3000, sob a invalida justificativa  de corresponderem a 'Chip, dados a mais'\n",
      "5. A parte autora ressalta que jamais anuiu com a cobranca desses valores, seja como prestacao de servicos adicionais, reajuste no plano ou qualquer outro tipo de cobranca, de maneira que resta ilicita e incorreta a referida cobranca de valores.\n",
      "\n",
      "DOS DIREITO\n",
      "6. De acordo com o Art XXX do CDC, quando houver cobranca indevida, o consumidor tem direito a repeticao do indebito em dobro, que foi validado em jurisprudencia XXXX\n",
      "7. Ainda de acordo com a respectiva lei XXXXX art XXXXX, a cobranca indevida nesses termos da ensejo aindenizacao por dano moral. O entendimento jurisprudencial e consoante.\n",
      "\n",
      "DOS PEDIDOS\n",
      "1. Seja deferida a inversao do onus da prova em favor da parte autora.\n",
      "2. A repeticao do indebito em dobro, de acordo com o exposto e no valor de R$ 6000\n",
      "3. Da-se a causa o valor de R$ 6000\n",
      "\n",
      "Termos em que pede deferimento\n",
      "Tris\n"
     ]
    }
   ],
   "source": [
    "pet1 = Petition()\n",
    "print(\"Vamos processar a TIM? \")\n",
    "name = input(\"Quem e vc? \")\n",
    "profession = input(\"Qual sua profissao? \")\n",
    "address = input(\"Qual seu endereco? \")\n",
    "cpf = input(\"Qual seu cpf? \")\n",
    "pet1.add(Author(name=name,\n",
    "                profession=profession,\n",
    "               address=address,\n",
    "               cpf=cpf))\n",
    "\n",
    "pet1.add(ContratoServicos(service=\"adesao a plano de celular\",\n",
    "                        docs = [\"contas\", \"reclamacoes\"]))\n",
    "\n",
    "pet1.add(InversaoOnusProva())\n",
    "\n",
    "if input(\"Teve cobranca indeivida? \") == \"sim\":\n",
    "    tarifas = [input(\"Quais tarifas te cobraram a mais? \")]\n",
    "    valor = int(input(\"E quanto eles te cobraram? \"))\n",
    "    docs = [input(\"Agora diga quais documentos voce tem que provam isso ai...\")]\n",
    "    pet1.add(CobrancaIndevida(tarifas_cobradas=tarifas,\n",
    "                         valor=valor,\n",
    "                         docs=docs))\n",
    "if input(\"Ta dificil cancelar o plano tambem?\") == \"sim\":\n",
    "    docs2 = [input(\"Me diga os documentos que vai usar pra provar isso \")]\n",
    "    valor2 = int(input(\"E quanto quer de dano moral pra compensar isso ai? \"))\n",
    "    pet1.add(ImpossivelCancelar(dano_moral=3000,\n",
    "                           docs=[\"pedido de cancelamento\", \"email\", \"protocolo\"]))\n",
    "    \n",
    "pet1.compile()\n",
    "    \n",
    "print(\"Partiu processar a TIM!!!\")\n",
    "pet1.print_text()"
   ]
  },
  {
   "cell_type": "code",
   "execution_count": null,
   "metadata": {},
   "outputs": [],
   "source": []
  }
 ],
 "metadata": {
  "kernelspec": {
   "display_name": "Python 3",
   "language": "python",
   "name": "python3"
  },
  "language_info": {
   "codemirror_mode": {
    "name": "ipython",
    "version": 3
   },
   "file_extension": ".py",
   "mimetype": "text/x-python",
   "name": "python",
   "nbconvert_exporter": "python",
   "pygments_lexer": "ipython3",
   "version": "3.7.3"
  }
 },
 "nbformat": 4,
 "nbformat_minor": 2
}
