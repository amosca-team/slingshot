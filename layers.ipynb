{
 "cells": [
  {
   "cell_type": "code",
   "execution_count": 1,
   "metadata": {},
   "outputs": [],
   "source": [
    "from slingshot.petition.layers.models import *\n",
    "from slingshot.petition.core import Petition"
   ]
  },
  {
   "cell_type": "code",
   "execution_count": 2,
   "metadata": {},
   "outputs": [],
   "source": [
    "pet = Petition()"
   ]
  },
  {
   "cell_type": "code",
   "execution_count": 3,
   "metadata": {},
   "outputs": [],
   "source": [
    "pet.add(Author(name=\"Pi\",\n",
    "               profession=\"animal que fez esta porra\",\n",
    "               address=\"Rua do Pi\",\n",
    "               cpf=\"438.096.209-98\"))\n",
    "\n",
    "pet.add(ContratoServicos(service=\"adesao a plano de celular\",\n",
    "                        docs = [\"contas, reclamacoes\"]))\n",
    "\n",
    "pet.add(CounterPart(name=\"TIM Brasil ltda.\",\n",
    "                    address=\"Sede da tim\",\n",
    "                    cnpj=\"1344.1234.1234-09231/12\"))\n",
    "\n",
    "pet.add(InversaoOnusProva())\n",
    "\n",
    "pet.add(CobrancaIndevida(tarifas_cobradas=[\"Dados a mais, manutencao do chip\"],\n",
    "                         valor=2000, docs=[\"contas\"]))\n",
    "\n",
    "pet.add(DanoMoral(2000))"
   ]
  },
  {
   "cell_type": "code",
   "execution_count": 4,
   "metadata": {},
   "outputs": [],
   "source": [
    "pet.compile()"
   ]
  },
  {
   "cell_type": "code",
   "execution_count": 5,
   "metadata": {},
   "outputs": [
    {
     "data": {
      "text/plain": [
       "['De acordo com o Art XXX do CDC, quando houver cobranca indevida, o consumidor tem direito a repeticao do indebito em dobro, que foi validado em jurisprudencia XXXX']"
      ]
     },
     "execution_count": 5,
     "metadata": {},
     "output_type": "execute_result"
    }
   ],
   "source": [
    "pet.the_law"
   ]
  },
  {
   "cell_type": "code",
   "execution_count": null,
   "metadata": {},
   "outputs": [],
   "source": []
  }
 ],
 "metadata": {
  "kernelspec": {
   "display_name": "Python 3",
   "language": "python",
   "name": "python3"
  },
  "language_info": {
   "codemirror_mode": {
    "name": "ipython",
    "version": 3
   },
   "file_extension": ".py",
   "mimetype": "text/x-python",
   "name": "python",
   "nbconvert_exporter": "python",
   "pygments_lexer": "ipython3",
   "version": "3.7.3"
  }
 },
 "nbformat": 4,
 "nbformat_minor": 2
}
