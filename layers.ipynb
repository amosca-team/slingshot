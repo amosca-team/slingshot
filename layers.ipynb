{
 "cells": [
  {
   "cell_type": "code",
   "execution_count": 1,
   "metadata": {},
   "outputs": [],
   "source": [
    "from slingshot.petition.layers.models import ContratoServicos, InversaoOnusProva, PropagandaEnganosa\n",
    "from slingshot.petition.layers.models import CobrancaIndevida, ImpossivelCancelar, DanoMoral, RegistroSerasa\n",
    "from slingshot.petition.layers.parts import *\n",
    "from slingshot.petition.core import Petition"
   ]
  },
  {
   "cell_type": "code",
   "execution_count": 2,
   "metadata": {},
   "outputs": [],
   "source": [
    "pet = Petition()"
   ]
  },
  {
   "cell_type": "code",
   "execution_count": 3,
   "metadata": {},
   "outputs": [],
   "source": [
    "pet.add(Author(name=\"Piero Enrico Esposito\",\n",
    "               profession=\"Desenvolvedor de Software\",\n",
    "               address=\"Rua Marco Antonio Dias Batista 35, casa 8\",\n",
    "               cpf=\"438.096.209-98\"))\n",
    "\n",
    "pet.add(ContratoServicos(service=\"adesão a plano de celular\",\n",
    "                        docs = [\"contas pagas\"]))\n",
    "\n",
    "pet.add(Claro_SP_re)\n",
    "\n",
    "pet.add(InversaoOnusProva())\n",
    "\n",
    "pet.add(PropagandaEnganosa(prometido=\"plano de internet sem corte de dados\",\n",
    "                          real=\"plano de celular com corte de dados ao fim da franquia\",\n",
    "                          valor=1000,\n",
    "                          docs=\"fotos e panfletos da operadora\",\n",
    "                          dano_ocorrido=\"usar o GPS na volta do trabalho, para não se atrasar para buscar o amigo\",\n",
    "                          deseja_prometido=True))\n",
    "\n",
    "pet.add(CobrancaIndevida(tarifas_cobradas=[\"Dados a mais\"],\n",
    "                         valor=2000,\n",
    "                         docs=[\"contas\"]))\n",
    "\n",
    "pet.add(RegistroSerasa(divida_registrada=\"Conta do celular (11) - 99999-8888\",\n",
    "                       valor=2000,\n",
    "                        docs=[\"Conta do mês de setembro\"]))\n",
    "\n",
    "pet.add(ImpossivelCancelar(dano_moral=3000,\n",
    "                           docs=[\"Pedido de cancelamento e email\"]))\n",
    "\n",
    "pet.add(DanoMoral(2000))"
   ]
  },
  {
   "cell_type": "code",
   "execution_count": 4,
   "metadata": {},
   "outputs": [],
   "source": [
    "pet.compile()"
   ]
  },
  {
   "cell_type": "code",
   "execution_count": 5,
   "metadata": {},
   "outputs": [
    {
     "name": "stdout",
     "output_type": "stream",
     "text": [
      "Acao condenatoria com base no CDC\n",
      "#############\n",
      "CAMADAS DA PETICAO:\n",
      "Autor\n",
      "Parte Re\n",
      "Contexto - Prestacao de servicos\n",
      "Preliminar - Inversao ônus da prova\n",
      "Propaganda enganosa\n",
      "Cobranca indevida\n",
      "Registro indevido no Serasa\n",
      "Impossivel cancelar plano\n",
      "Dano moral puro\n",
      "#############\n",
      "Valor da causa: R$ 12000\n"
     ]
    }
   ],
   "source": [
    "pet.summary()"
   ]
  },
  {
   "cell_type": "code",
   "execution_count": 6,
   "metadata": {},
   "outputs": [
    {
     "name": "stdout",
     "output_type": "stream",
     "text": [
      "libpng warning: iCCP: known incorrect sRGB profile\n",
      "libpng warning: iCCP: known incorrect sRGB profile\n",
      "Loading page (1/2)\n",
      "[>                                                           ] 0%\r",
      "[====================>                                       ] 34%\r",
      "[==============================>                             ] 50%\r",
      "[============================================================] 100%\r",
      "Printing pages (2/2)                                               \n",
      "[>                                                           ] \r",
      "Done                                                           \n"
     ]
    }
   ],
   "source": [
    "a = pet.save_document('yee')"
   ]
  },
  {
   "cell_type": "code",
   "execution_count": null,
   "metadata": {},
   "outputs": [],
   "source": []
  }
 ],
 "metadata": {
  "kernelspec": {
   "display_name": "Python 3",
   "language": "python",
   "name": "python3"
  },
  "language_info": {
   "codemirror_mode": {
    "name": "ipython",
    "version": 3
   },
   "file_extension": ".py",
   "mimetype": "text/x-python",
   "name": "python",
   "nbconvert_exporter": "python",
   "pygments_lexer": "ipython3",
   "version": "3.7.3"
  }
 },
 "nbformat": 4,
 "nbformat_minor": 2
}
