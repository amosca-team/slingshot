{
 "cells": [
  {
   "cell_type": "code",
   "execution_count": 40,
   "metadata": {},
   "outputs": [],
   "source": [
    "from slingshot.petition.layers.base import PetitionLayer"
   ]
  },
  {
   "cell_type": "code",
   "execution_count": 36,
   "metadata": {},
   "outputs": [],
   "source": [
    "class CobrancaContaPaga(Request):\n",
    "    def __init__(self, divida_cobrada, valor, docs, dano_moral=1000):\n",
    "        super(CobrancaContaPaga, self).__init__()\n",
    "        self.layer_type = \"Cobranca indevida\"\n",
    "        self.value = valor * 2 + dano_moral\n",
    "        self.divida_cobrada = divida_cobrada\n",
    "        self.dano_moral = dano_moral\n",
    "        self.docs = docs\n",
    "        self.set_texts()\n",
    "    \n",
    "    def set_texts(self):\n",
    "        self.set_facts()\n",
    "        self.set_law()\n",
    "        self.set_requests()\n",
    "    \n",
    "    def set_facts(self):\n",
    "        docs = str(self.docs).replace(\"[\", \"\").replace(\"]\", \"\")\n",
    "        base = \"Conforme a documentacao anexa {}, a parte re cobrou indevidamente \" \\\n",
    "        \"da autora valores que perfazezm o montate de R$ {}, a titulo de {}. \" \\\n",
    "        \"Ocorre que, como provam os documentos anexos, a conta ja foi paga.\"\n",
    "        t1 = \"Essa cobranca em duplicidade causou grande aborrecimento a parte autora, \" \\\n",
    "        \"que teve que perder tempo em provar que pagou tudo e ainda ajuizar acao judicial, de forma \" \\\n",
    "        \"que essa situacao lhe causou dano moral.\"\n",
    "        base = base.format(docs, self.value, self.divida_cobrada)\n",
    "        self.fact.append(base)\n",
    "        \n",
    "    def set_law(self):\n",
    "        base = \"De acordo com o Art XXX do CDC, quando houver cobranca indevida, o consumidor tem direito\" \\\n",
    "        \"a repeticao do indebito em dobro, que foi validado em jurisprudencia XXXX.\"\n",
    "        t1 = \"A lei CDC/CC art XXX e jurisprudencia XXXX tambem reconhecem a existencia de dano moral\" \\\n",
    "        \"nessa situacao de cobranca de divida paga\" \\\n",
    "        \", de forma que resta necessaria compensacao por parte da parte re pelo \" \\\n",
    "        \"moral causado a autora.\"\n",
    "        self.law.append(base)\n",
    "        self.law.append(t1)\n",
    "        \n",
    "    def set_requests(self):\n",
    "        base = \"A repeticao do indebito da conta indevidamente cobrada pela segunda vez\"\\\n",
    "        \" em dobro, de acordo com o exposto e no valor de R$ {}\"\n",
    "        base = base.format(str(self.value * 2))\n",
    "        self.request.append(base)"
   ]
  },
  {
   "cell_type": "code",
   "execution_count": 37,
   "metadata": {},
   "outputs": [],
   "source": [
    "a = CobrancaContaPaga(\"contas atrasadas\", 1000, [\"documentos do Serasa\"])"
   ]
  },
  {
   "cell_type": "code",
   "execution_count": null,
   "metadata": {},
   "outputs": [],
   "source": [
    "class InersaoOnusProva(PetitionLayer):\n",
    "    def __init__(self):\n",
    "        super(InversaoOnusProva, self).__init__()\n",
    "        "
   ]
  },
  {
   "cell_type": "code",
   "execution_count": null,
   "metadata": {},
   "outputs": [],
   "source": []
  }
 ],
 "metadata": {
  "kernelspec": {
   "display_name": "Python 3",
   "language": "python",
   "name": "python3"
  },
  "language_info": {
   "codemirror_mode": {
    "name": "ipython",
    "version": 3
   },
   "file_extension": ".py",
   "mimetype": "text/x-python",
   "name": "python",
   "nbconvert_exporter": "python",
   "pygments_lexer": "ipython3",
   "version": "3.7.3"
  }
 },
 "nbformat": 4,
 "nbformat_minor": 2
}
