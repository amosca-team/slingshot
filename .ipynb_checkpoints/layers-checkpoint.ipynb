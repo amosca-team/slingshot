{
 "cells": [
  {
   "cell_type": "code",
   "execution_count": 7,
   "metadata": {},
   "outputs": [],
   "source": [
    "from slingshot.petition.layers.models import Author, CounterPart, ContratoServicos, InversaoOnusProva\n",
    "from slingshot.petition.layers.models import CobrancaIndevida, ImpossivelCancelar, DanoMoral\n",
    "from slingshot.petition.core import Petition"
   ]
  },
  {
   "cell_type": "code",
   "execution_count": 8,
   "metadata": {},
   "outputs": [],
   "source": [
    "pet = Petition()"
   ]
  },
  {
   "cell_type": "code",
   "execution_count": 9,
   "metadata": {},
   "outputs": [],
   "source": [
    "pet.add(Author(name=\"Pi\",\n",
    "               profession=\"animal que fez esta porra\",\n",
    "               address=\"Rua do Pi\",\n",
    "               cpf=\"438.096.209-98\"))\n",
    "\n",
    "pet.add(ContratoServicos(service=\"adesao a plano de celular\",\n",
    "                        docs = [\"contas\", \"reclamacoes\"]))\n",
    "\n",
    "pet.add(CounterPart(name=\"TIM Brasil ltda.\",\n",
    "                    address=\"Sede da tim\",\n",
    "                    cnpj=\"1344.1234.1234-09231/12\"))\n",
    "\n",
    "pet.add(InversaoOnusProva())\n",
    "\n",
    "pet.add(CobrancaIndevida(tarifas_cobradas=[\"Dados a mais\", \"manutencao do chip\"],\n",
    "                         valor=2000,\n",
    "                         docs=[\"contas\"]))\n",
    "\n",
    "pet.add(ImpossivelCancelar(dano_moral=3000,\n",
    "                           docs=[\"pedido de cancelamento\", \"email\", \"protocolo\"]))\n",
    "\n",
    "pet.add(DanoMoral(2000))"
   ]
  },
  {
   "cell_type": "code",
   "execution_count": 10,
   "metadata": {},
   "outputs": [],
   "source": [
    "pet.compile()"
   ]
  },
  {
   "cell_type": "code",
   "execution_count": 11,
   "metadata": {},
   "outputs": [
    {
     "name": "stdout",
     "output_type": "stream",
     "text": [
      "Acao condenatoria com base no CDC\n",
      "#############\n",
      "CAMADAS DA PETICAO:\n",
      "Autor\n",
      "Parte Re\n",
      "Contexto - Prestacao de servicos\n",
      "Preliminar - Inversao onus da prova\n",
      "Cobranca indevida\n",
      "Impossivel cancelar plano\n",
      "Dano moral puro\n",
      "#############\n",
      "Valor da causa: R$ 9000\n"
     ]
    }
   ],
   "source": [
    "pet.summary()"
   ]
  },
  {
   "cell_type": "code",
   "execution_count": null,
   "metadata": {},
   "outputs": [],
   "source": [
    "pet1 = Petition()\n",
    "print(\"Vamos processar a TIM? \")\n",
    "name = input(\"Quem e vc? \")\n",
    "profession = input(\"Qual sua profissao? \")\n",
    "address = input(\"Qual seu endereco? \")\n",
    "cpf = input(\"Qual seu cpf? \")\n",
    "pet1.add(Author(name=name,\n",
    "                profession=profession,\n",
    "               address=address,\n",
    "               cpf=cpf))\n",
    "\n",
    "pet1.add(ContratoServicos(service=\"adesao a plano de celular\",\n",
    "                        docs = [\"contas\", \"reclamacoes\"]))\n",
    "pet1.add(ContratoServicos(service=\"adesao a plano de celular\",\n",
    "                        docs = [\"contas\", \"reclamacoes\"]))\n",
    "pet1.add(InversaoOnusProva())\n",
    "\n",
    "if input(\"Teve cobranca indeivida? \") == \"sim\":\n",
    "    tarifas = [input(\"Quais tarifas te cobraram a mais? \")]\n",
    "    valor = int(input(\"E quanto eles te cobraram? \"))\n",
    "    docs = [input(\"Agora diga quais documentos voce tem que provam isso ai...\")]\n",
    "    pet1.add(CobrancaIndevida(tarifas_cobradas=tarifas,\n",
    "                         valor=valor,\n",
    "                         docs=docs))\n",
    "if input(\"Ta dificil cancelar o plano tambem?\") == \"sim\":\n",
    "    docs2 = [input(\"Me diga os documentos que vai usar pra provar isso \")]\n",
    "    valor2 = int(input(\"E quanto quer de dano moral pra compensar isso ai? \"))\n",
    "    pet1.add(ImpossivelCancelar(dano_moral=3000,\n",
    "                           docs=[\"pedido de cancelamento\", \"email\", \"protocolo\"]))\n",
    "    \n",
    "pet1.compile()\n",
    "    \n",
    "print(\"Partiu processar a TIM!!!\")\n",
    "pet1.print_text()"
   ]
  },
  {
   "cell_type": "code",
   "execution_count": 12,
   "metadata": {},
   "outputs": [
    {
     "name": "stdout",
     "output_type": "stream",
     "text": [
      "EXMO SR JUIZ DE DIREITO DO JEC DO TJSP\n",
      "\n",
      "\n",
      "\n",
      "Pi, animal que fez esta porra, domiciliado em Rua do Pi, sob o CPF 438.096.209-98 vem diante da Vossa Exa. ajuizar\n",
      "Acao condenatoria com base no CDC\n",
      "Em face de TIM Brasil ltda., com sede em Sede da tim, sob o CNPJ 1344.1234.1234-09231/12, pelas razoes de fato e Direito aqui expostas:\n",
      "\n",
      "PRELIMINARES\n",
      "1. Em virtude da nitida situacao de hipossuficiente da parte autora, do art XXXX do CDC e art XXX do CPC e CC e dos julgados XXXX, faz-se necessariainversao do onus da prova em favor da parte autora neste processo.\n",
      "\n",
      "DOS FATOS\n",
      "2. Conforme da documentacao anexa ('contas', 'reclamacoes') parte autora firmou com a parte requerida contrato de prestacao de servicos, mais especificamente por meio de adesao a plano de celular. Ocorre que, durante a execucao do contrato, a re teve uma serie de condutas que passaram a prejudicar a autora.\n",
      "3. Ainda conforme a documentacao, a parte autora tentou de todos os meios amigaveis possiveispara a solucao dos problemas que seguem, tornando esta acao a unica solucao possivel.\n",
      "4. Conforme a documentacao anexa 'contas', a parte re cobrou indevidamente da autora valores que perfazezm o montate de R$ 2000, sob a invalida justificativa  de corresponderem a 'Dados a mais', 'manutencao do chip'\n",
      "5. A parte autora ressalta que jamais anuiu com a cobranca desses valores, seja como prestacao de servicos adicionais, reajuste no plano ou qualquer outro tipo de cobranca, de maneira que resta ilicita e incorreta a referida cobranca de valores.\n",
      "6. Ocorre que a parte autora vem tentando, sem sucesso, cancelar seu plano e, depois de varias tentativas, nao conseguiu ter sucesso. Isso se deu por conduta ativa e dolosa da parte re que, desnecessariamente demora excessivamente e dificulta toda forma de comunicacaono que diz respeito ao cancelamento do plano.\n",
      "7. Vale dizer que a parte re sempre mostrou prontidao quando do momento da contratacao, mas quando se quis proceder o cancelamento, passou a agir com essa conduta desrespeitosa que causou grande desconforto e sentimento de humilhacao, traduzido em dano moral, para a parte autora.\n",
      "8. Isso encontra respaldo documental na documentacao anexa ('pedido de cancelamento', 'email', 'protocolo')\n",
      "\n",
      "DOS DIREITO\n",
      "9. De acordo com o Art XXX do CDC, quando houver cobranca indevida, o consumidor tem direito a repeticao do indebito em dobro, que foi validado em jurisprudencia XXXX\n",
      "10. Ainda de acordo com a respectiva lei XXXXX art XXXXX, a cobranca indevida nesses termos da ensejo aindenizacao por dano moral. O entendimento jurisprudencial e consoante.\n",
      "11. Ademais do dano moral, cuja necessidade de ressarcimento tem resguardo legislativono Codigo Civil art XXXX, o mesmo, para esse tipo de caso do consumidor, encontra respaldo noart XXXX do CDC\n",
      "12. Existe ainda respaldo jurisprudencial no sentido de entender a gravidade e a necessidade de ressarcimento deste tipo de dano, como nos julgados XXXX\n",
      "\n",
      "DOS PEDIDOS\n",
      "1. Seja deferida a inversao do onus da prova em favor da parte autora.\n",
      "2. A repeticao do indebito em dobro, de acordo com o exposto e no valor de R$ 4000\n",
      "3. O cancelamento imediato de todos os servicos que a parte re se recusou a cancelar ou dificultou o cancelamento.\n",
      "4. A condenacao da parte re ao pagamento de um total de R$ 5000 a titulo de danos morais, em virtude do exposto\n",
      "5. Da-se a causa o valor de R$ 9000\n",
      "\n",
      "Termos em que pede deferimento\n",
      "Pi\n"
     ]
    }
   ],
   "source": [
    "pet.print_text()"
   ]
  },
  {
   "cell_type": "code",
   "execution_count": null,
   "metadata": {},
   "outputs": [],
   "source": []
  },
  {
   "cell_type": "code",
   "execution_count": null,
   "metadata": {},
   "outputs": [],
   "source": []
  }
 ],
 "metadata": {
  "kernelspec": {
   "display_name": "Python 3",
   "language": "python",
   "name": "python3"
  },
  "language_info": {
   "codemirror_mode": {
    "name": "ipython",
    "version": 3
   },
   "file_extension": ".py",
   "mimetype": "text/x-python",
   "name": "python",
   "nbconvert_exporter": "python",
   "pygments_lexer": "ipython3",
   "version": "3.7.3"
  }
 },
 "nbformat": 4,
 "nbformat_minor": 2
}
