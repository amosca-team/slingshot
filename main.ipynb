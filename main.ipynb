{
 "cells": [
  {
   "cell_type": "code",
   "execution_count": 4,
   "metadata": {},
   "outputs": [],
   "source": [
    "from icarros_webcrawler import engine\n",
    "import requests\n",
    "import json"
   ]
  },
  {
   "cell_type": "code",
   "execution_count": 5,
   "metadata": {},
   "outputs": [
    {
     "name": "stdout",
     "output_type": "stream",
     "text": [
      "New Ip Address 81.17.27.133\n"
     ]
    }
   ],
   "source": [
    "crawler = engine.CarsCrawler()\n",
    "crawler.renew_tor_ip()\n",
    "session = requests.session()\n",
    "\n",
    "# TO Request URL with SOCKS over TOR\n",
    "session.proxies = {}\n",
    "session.proxies['http']='socks5h://localhost:9050'\n",
    "session.proxies['https']='socks5h://localhost:9050'\n",
    "\n",
    "response= session.get('http://ipecho.net/plain')\n",
    "print (\"New Ip Address\",response.text)"
   ]
  },
  {
   "cell_type": "code",
   "execution_count": 6,
   "metadata": {},
   "outputs": [],
   "source": [
    "with open(\"car_link_list_full.json\", \"r\") as file:\n",
    "    list_to_crawl = json.load(file)"
   ]
  },
  {
   "cell_type": "code",
   "execution_count": 7,
   "metadata": {},
   "outputs": [
    {
     "data": {
      "text/plain": [
       "250148"
      ]
     },
     "execution_count": 7,
     "metadata": {},
     "output_type": "execute_result"
    }
   ],
   "source": [
    "crawler.car_link_list = list_to_crawl\n",
    "len(crawler.car_link_list)"
   ]
  },
  {
   "cell_type": "code",
   "execution_count": null,
   "metadata": {},
   "outputs": [
    {
     "name": "stdout",
     "output_type": "stream",
     "text": [
      "Crawling announce nmr: 0 \n",
      "Link: http://icarros.com.br/comprar/fiat/cronos/2020/dm27748904?regiao=-esc_4.1_\n",
      "Crawling announce nmr: 1 \n",
      "Link: http://icarros.com.br/comprar/citroen/c3/2020/dm27732080?regiao=-esc_4.1_\n",
      "Crawling announce nmr: 2 \n",
      "Link: http://icarros.com.br/comprar/peugeot/208/2020/dm27706320?regiao=-esc_4.1_\n",
      "Crawling announce nmr: 3 \n",
      "Link: http://icarros.com.br/comprar/fiat/toro/2020/dm27748906?regiao=-esc_4.1_\n",
      "Crawling announce nmr: 4 \n",
      "Link: http://icarros.com.br/comprar/citroen/c4-cactus/2020/dm27671993?regiao=-esc_4.1_\n",
      "New Ip Address 144.217.60.211\n",
      "Crawling announce nmr: 5 \n",
      "Link: http://icarros.com.br/comprar/peugeot/2008/2020/dm27563658?regiao=-esc_4.1_\n",
      "Crawling announce nmr: 6 \n",
      "Link: http://icarros.com.br/comprar/mitsubishi/asx/2020/dm24114234?regiao=-esc_4.1_\n",
      "Crawling announce nmr: 7 \n",
      "Link: http://icarros.com.br/comprar/suzuki/s-cross/2020/dm25775145?regiao=-esc_4.1_\n",
      "Crawling announce nmr: 8 \n",
      "Link: http://icarros.com.br/comprar/mitsubishi/asx/2020/dm24114237?regiao=-esc_4.1_\n",
      "Crawling announce nmr: 9 \n",
      "Link: http://icarros.com.br/comprar/mitsubishi/asx/2020/dm24114218?regiao=-esc_4.1_\n",
      "Crawling announce nmr: 10 \n",
      "Link: http://icarros.com.br/comprar/suzuki/s-cross/2020/dm25775153?regiao=-esc_4.1_\n",
      "Crawling announce nmr: 11 \n",
      "Link: http://icarros.com.br/comprar/mitsubishi/asx/2020/dm24114203?regiao=-esc_4.1_\n"
     ]
    }
   ],
   "source": [
    "try_nbr = 0\n",
    "while try_nbr < 50:\n",
    "    crawler.renew_tor_ip()\n",
    "    crawler.extract_all_car_descriptions()\n",
    "    try_nbr += 1"
   ]
  },
  {
   "cell_type": "code",
   "execution_count": null,
   "metadata": {},
   "outputs": [],
   "source": []
  }
 ],
 "metadata": {
  "kernelspec": {
   "display_name": "Python 3",
   "language": "python",
   "name": "python3"
  },
  "language_info": {
   "codemirror_mode": {
    "name": "ipython",
    "version": 3
   },
   "file_extension": ".py",
   "mimetype": "text/x-python",
   "name": "python",
   "nbconvert_exporter": "python",
   "pygments_lexer": "ipython3",
   "version": "3.7.3"
  }
 },
 "nbformat": 4,
 "nbformat_minor": 2
}
